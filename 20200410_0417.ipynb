{
  "nbformat": 4,
  "nbformat_minor": 0,
  "metadata": {
    "colab": {
      "name": "20200410/0417.ipynb",
      "provenance": []
    },
    "kernelspec": {
      "name": "python3",
      "display_name": "Python 3"
    }
  },
  "cells": [
    {
      "cell_type": "code",
      "metadata": {
        "id": "Au-AgO6ZjTfo",
        "colab_type": "code",
        "colab": {
          "base_uri": "https://localhost:8080/",
          "height": 51
        },
        "outputId": "1ba7d282-f89b-4a06-943d-f999f3eb21e4"
      },
      "source": [
        "print(False) # off\n",
        "print(True) # on"
      ],
      "execution_count": 1,
      "outputs": [
        {
          "output_type": "stream",
          "text": [
            "False\n",
            "True\n"
          ],
          "name": "stdout"
        }
      ]
    },
    {
      "cell_type": "code",
      "metadata": {
        "id": "m70kXEeujU5q",
        "colab_type": "code",
        "colab": {
          "base_uri": "https://localhost:8080/",
          "height": 51
        },
        "outputId": "0bf57e73-7f0a-4b47-bfc8-532795404991"
      },
      "source": [
        "print(7.7 > 8)\n",
        "print(7.7 > 7)"
      ],
      "execution_count": 2,
      "outputs": [
        {
          "output_type": "stream",
          "text": [
            "False\n",
            "True\n"
          ],
          "name": "stdout"
        }
      ]
    },
    {
      "cell_type": "code",
      "metadata": {
        "id": "KztO9R66jXw6",
        "colab_type": "code",
        "colab": {
          "base_uri": "https://localhost:8080/",
          "height": 51
        },
        "outputId": "5898b063-2b60-45d2-80de-8fd9ca2e9132"
      },
      "source": [
        "print(type(False))\n",
        "print(type(True))"
      ],
      "execution_count": 3,
      "outputs": [
        {
          "output_type": "stream",
          "text": [
            "<class 'bool'>\n",
            "<class 'bool'>\n"
          ],
          "name": "stdout"
        }
      ]
    },
    {
      "cell_type": "code",
      "metadata": {
        "id": "-72c6GvpjaWl",
        "colab_type": "code",
        "colab": {
          "base_uri": "https://localhost:8080/",
          "height": 51
        },
        "outputId": "f8f4c8cf-5230-42eb-d5ec-4a1ad23e75f4"
      },
      "source": [
        "print(type(7.7 > 8))\n",
        "print(type(7.7 > 7))"
      ],
      "execution_count": 4,
      "outputs": [
        {
          "output_type": "stream",
          "text": [
            "<class 'bool'>\n",
            "<class 'bool'>\n"
          ],
          "name": "stdout"
        }
      ]
    },
    {
      "cell_type": "code",
      "metadata": {
        "id": "YRUvYS6ajd32",
        "colab_type": "code",
        "colab": {
          "base_uri": "https://localhost:8080/",
          "height": 51
        },
        "outputId": "46dad2fe-45cb-4a7b-afc1-3b43045a583b"
      },
      "source": [
        "print(7.7 == 8)\n",
        "print(7.7 != 8)"
      ],
      "execution_count": 5,
      "outputs": [
        {
          "output_type": "stream",
          "text": [
            "False\n",
            "True\n"
          ],
          "name": "stdout"
        }
      ]
    },
    {
      "cell_type": "code",
      "metadata": {
        "id": "N9tfr47jjgjc",
        "colab_type": "code",
        "colab": {
          "base_uri": "https://localhost:8080/",
          "height": 34
        },
        "outputId": "9237fe3f-3c17-4ca1-b795-0255597604e1"
      },
      "source": [
        "id_last_digit = 9\n",
        "id_last_digit % 2 != 0"
      ],
      "execution_count": 6,
      "outputs": [
        {
          "output_type": "execute_result",
          "data": {
            "text/plain": [
              "True"
            ]
          },
          "metadata": {
            "tags": []
          },
          "execution_count": 6
        }
      ]
    },
    {
      "cell_type": "code",
      "metadata": {
        "id": "SpSnZhBvjl4Z",
        "colab_type": "code",
        "colab": {
          "base_uri": "https://localhost:8080/",
          "height": 51
        },
        "outputId": "e366070e-8768-48cd-f89c-6462f82eb6b6"
      },
      "source": [
        "print(not True)\n",
        "print(not False)"
      ],
      "execution_count": 7,
      "outputs": [
        {
          "output_type": "stream",
          "text": [
            "False\n",
            "True\n"
          ],
          "name": "stdout"
        }
      ]
    },
    {
      "cell_type": "code",
      "metadata": {
        "id": "7391v_v5j1hF",
        "colab_type": "code",
        "colab": {
          "base_uri": "https://localhost:8080/",
          "height": 51
        },
        "outputId": "4c0709ce-0f7b-485c-9e78-5e317f8065b5"
      },
      "source": [
        "print(not 7.7 != 8)\n",
        "print(not 7.7 == 8)"
      ],
      "execution_count": 8,
      "outputs": [
        {
          "output_type": "stream",
          "text": [
            "False\n",
            "True\n"
          ],
          "name": "stdout"
        }
      ]
    },
    {
      "cell_type": "code",
      "metadata": {
        "id": "cpfdJhqjj7j9",
        "colab_type": "code",
        "colab": {
          "base_uri": "https://localhost:8080/",
          "height": 68
        },
        "outputId": "2a0d1107-c2a0-4657-d5fa-28322404f1db"
      },
      "source": [
        "print(5566.00 == 5566)\n",
        "print(type(5566.00))\n",
        "print(type(5566))"
      ],
      "execution_count": 9,
      "outputs": [
        {
          "output_type": "stream",
          "text": [
            "True\n",
            "<class 'float'>\n",
            "<class 'int'>\n"
          ],
          "name": "stdout"
        }
      ]
    },
    {
      "cell_type": "code",
      "metadata": {
        "id": "jAsOxYJqj9pt",
        "colab_type": "code",
        "colab": {
          "base_uri": "https://localhost:8080/",
          "height": 34
        },
        "outputId": "3986e17f-1f6d-46fe-d5a9-e452886ebc74"
      },
      "source": [
        "5566 is 5566.0"
      ],
      "execution_count": 10,
      "outputs": [
        {
          "output_type": "execute_result",
          "data": {
            "text/plain": [
              "False"
            ]
          },
          "metadata": {
            "tags": []
          },
          "execution_count": 10
        }
      ]
    },
    {
      "cell_type": "code",
      "metadata": {
        "id": "0C2yyOZukAwX",
        "colab_type": "code",
        "colab": {
          "base_uri": "https://localhost:8080/",
          "height": 34
        },
        "outputId": "f145b2a4-c9f8-44a4-88af-7ebfd61aca86"
      },
      "source": [
        "5566 is not 5566.0"
      ],
      "execution_count": 11,
      "outputs": [
        {
          "output_type": "execute_result",
          "data": {
            "text/plain": [
              "True"
            ]
          },
          "metadata": {
            "tags": []
          },
          "execution_count": 11
        }
      ]
    },
    {
      "cell_type": "code",
      "metadata": {
        "id": "tT4w87MykC5j",
        "colab_type": "code",
        "colab": {
          "base_uri": "https://localhost:8080/",
          "height": 51
        },
        "outputId": "798513f3-6458-4711-bb2d-7cfd3a5eaac1"
      },
      "source": [
        "print(156 < 120) # False\n",
        "print(7.7 > 7) # True"
      ],
      "execution_count": 12,
      "outputs": [
        {
          "output_type": "stream",
          "text": [
            "False\n",
            "True\n"
          ],
          "name": "stdout"
        }
      ]
    },
    {
      "cell_type": "code",
      "metadata": {
        "id": "Hl4R-PttkIEh",
        "colab_type": "code",
        "colab": {
          "base_uri": "https://localhost:8080/",
          "height": 34
        },
        "outputId": "beaecbb2-d0ba-414b-f456-591fad14b1eb"
      },
      "source": [
        "print(156 < 120 and 7.7 > 7)"
      ],
      "execution_count": 13,
      "outputs": [
        {
          "output_type": "stream",
          "text": [
            "False\n"
          ],
          "name": "stdout"
        }
      ]
    },
    {
      "cell_type": "code",
      "metadata": {
        "id": "FboCDtGMkLPB",
        "colab_type": "code",
        "colab": {
          "base_uri": "https://localhost:8080/",
          "height": 34
        },
        "outputId": "2225188d-4a44-400c-b027-c839e32a5a87"
      },
      "source": [
        "print(156 < 120 or 7.7 > 7)"
      ],
      "execution_count": 14,
      "outputs": [
        {
          "output_type": "stream",
          "text": [
            "True\n"
          ],
          "name": "stdout"
        }
      ]
    },
    {
      "cell_type": "code",
      "metadata": {
        "id": "lx_E3rXKkNOC",
        "colab_type": "code",
        "colab": {
          "base_uri": "https://localhost:8080/",
          "height": 68
        },
        "outputId": "49995ac4-e623-4fe9-f3f9-220942571ef3"
      },
      "source": [
        "city = input(\"請輸入您所在的城市：\")\n",
        "weather = input(\"請輸入現在的天氣：\")\n",
        "print(\"我在{}，天氣{}\".format(city, weather))"
      ],
      "execution_count": 15,
      "outputs": [
        {
          "output_type": "stream",
          "text": [
            "請輸入您所在的城市：Taipei\n",
            "請輸入現在的天氣：Sunny\n",
            "我在Taipei，天氣Sunny\n"
          ],
          "name": "stdout"
        }
      ]
    },
    {
      "cell_type": "code",
      "metadata": {
        "id": "daFd2V5jkQW7",
        "colab_type": "code",
        "colab": {
          "base_uri": "https://localhost:8080/",
          "height": 307
        },
        "outputId": "5e8642cc-f332-41da-a234-00c7916b00e8"
      },
      "source": [
        "city = input(\"請輸入您所在的城市：\")\n",
        "weather = input(\"請輸入現在的天氣：\")\n",
        "tempc = input(\"請輸入現在的攝氏氣溫：\")\n",
        "tempf = tempc*9/5 + 32\n",
        "\n",
        "print(\"我在{}，天氣{}，攝氏{}度，華氏{}度\".format(city, weather, tempc, tempf))"
      ],
      "execution_count": 16,
      "outputs": [
        {
          "output_type": "stream",
          "text": [
            "請輸入您所在的城市：台北\n",
            "請輸入現在的天氣：晴\n",
            "請輸入現在的攝氏氣溫：26\n"
          ],
          "name": "stdout"
        },
        {
          "output_type": "error",
          "ename": "TypeError",
          "evalue": "ignored",
          "traceback": [
            "\u001b[0;31m---------------------------------------------------------------------------\u001b[0m",
            "\u001b[0;31mTypeError\u001b[0m                                 Traceback (most recent call last)",
            "\u001b[0;32m<ipython-input-16-246172e6a1e4>\u001b[0m in \u001b[0;36m<module>\u001b[0;34m()\u001b[0m\n\u001b[1;32m      2\u001b[0m \u001b[0mweather\u001b[0m \u001b[0;34m=\u001b[0m \u001b[0minput\u001b[0m\u001b[0;34m(\u001b[0m\u001b[0;34m\"請輸入現在的天氣：\"\u001b[0m\u001b[0;34m)\u001b[0m\u001b[0;34m\u001b[0m\u001b[0;34m\u001b[0m\u001b[0m\n\u001b[1;32m      3\u001b[0m \u001b[0mtempc\u001b[0m \u001b[0;34m=\u001b[0m \u001b[0minput\u001b[0m\u001b[0;34m(\u001b[0m\u001b[0;34m\"請輸入現在的攝氏氣溫：\"\u001b[0m\u001b[0;34m)\u001b[0m\u001b[0;34m\u001b[0m\u001b[0;34m\u001b[0m\u001b[0m\n\u001b[0;32m----> 4\u001b[0;31m \u001b[0mtempf\u001b[0m \u001b[0;34m=\u001b[0m \u001b[0mtempc\u001b[0m\u001b[0;34m*\u001b[0m\u001b[0;36m9\u001b[0m\u001b[0;34m/\u001b[0m\u001b[0;36m5\u001b[0m \u001b[0;34m+\u001b[0m \u001b[0;36m32\u001b[0m\u001b[0;34m\u001b[0m\u001b[0;34m\u001b[0m\u001b[0m\n\u001b[0m\u001b[1;32m      5\u001b[0m \u001b[0;34m\u001b[0m\u001b[0m\n\u001b[1;32m      6\u001b[0m \u001b[0mprint\u001b[0m\u001b[0;34m(\u001b[0m\u001b[0;34m\"我在{}，天氣{}，攝氏{}度，華氏{}度\"\u001b[0m\u001b[0;34m.\u001b[0m\u001b[0mformat\u001b[0m\u001b[0;34m(\u001b[0m\u001b[0mcity\u001b[0m\u001b[0;34m,\u001b[0m \u001b[0mweather\u001b[0m\u001b[0;34m,\u001b[0m \u001b[0mtempc\u001b[0m\u001b[0;34m,\u001b[0m \u001b[0mtempf\u001b[0m\u001b[0;34m)\u001b[0m\u001b[0;34m)\u001b[0m\u001b[0;34m\u001b[0m\u001b[0;34m\u001b[0m\u001b[0m\n",
            "\u001b[0;31mTypeError\u001b[0m: unsupported operand type(s) for /: 'str' and 'int'"
          ]
        }
      ]
    },
    {
      "cell_type": "code",
      "metadata": {
        "id": "VL4ZvWcekS4G",
        "colab_type": "code",
        "colab": {
          "base_uri": "https://localhost:8080/",
          "height": 51
        },
        "outputId": "49af2200-70c5-4669-cf38-ee179f414716"
      },
      "source": [
        "print(tempc)\n",
        "print(type(tempc))"
      ],
      "execution_count": 17,
      "outputs": [
        {
          "output_type": "stream",
          "text": [
            "26\n",
            "<class 'str'>\n"
          ],
          "name": "stdout"
        }
      ]
    },
    {
      "cell_type": "code",
      "metadata": {
        "id": "SpW2LOP0ke2Z",
        "colab_type": "code",
        "colab": {
          "base_uri": "https://localhost:8080/",
          "height": 34
        },
        "outputId": "a080858b-2e60-4edd-ebe7-31a63eabda0a"
      },
      "source": [
        "tempc + \"32\""
      ],
      "execution_count": 18,
      "outputs": [
        {
          "output_type": "execute_result",
          "data": {
            "text/plain": [
              "'2632'"
            ]
          },
          "metadata": {
            "tags": []
          },
          "execution_count": 18
        }
      ]
    },
    {
      "cell_type": "code",
      "metadata": {
        "id": "mj9NkiYUkilk",
        "colab_type": "code",
        "colab": {
          "base_uri": "https://localhost:8080/",
          "height": 34
        },
        "outputId": "5da5f391-1dbb-4e31-8f25-efec12f77e8e"
      },
      "source": [
        "tempc * 5"
      ],
      "execution_count": 19,
      "outputs": [
        {
          "output_type": "execute_result",
          "data": {
            "text/plain": [
              "'2626262626'"
            ]
          },
          "metadata": {
            "tags": []
          },
          "execution_count": 19
        }
      ]
    },
    {
      "cell_type": "code",
      "metadata": {
        "id": "vbZMKF_ZkkHk",
        "colab_type": "code",
        "colab": {
          "base_uri": "https://localhost:8080/",
          "height": 51
        },
        "outputId": "20d4a8dc-87e5-479c-c09d-b7e8333ed165"
      },
      "source": [
        "print(int(tempc))\n",
        "print(float(tempc))"
      ],
      "execution_count": 20,
      "outputs": [
        {
          "output_type": "stream",
          "text": [
            "26\n",
            "26.0\n"
          ],
          "name": "stdout"
        }
      ]
    },
    {
      "cell_type": "code",
      "metadata": {
        "id": "R_PzbCYPkmZ6",
        "colab_type": "code",
        "colab": {
          "base_uri": "https://localhost:8080/",
          "height": 51
        },
        "outputId": "decef7be-02b0-445f-884f-0df2adba45c2"
      },
      "source": [
        "print(type(int(tempc)))\n",
        "print(type(float(tempc)))"
      ],
      "execution_count": 21,
      "outputs": [
        {
          "output_type": "stream",
          "text": [
            "<class 'int'>\n",
            "<class 'float'>\n"
          ],
          "name": "stdout"
        }
      ]
    },
    {
      "cell_type": "code",
      "metadata": {
        "id": "y4TcIpx5koDd",
        "colab_type": "code",
        "colab": {
          "base_uri": "https://localhost:8080/",
          "height": 85
        },
        "outputId": "bc49183c-b4f4-4708-82c0-fe8fead84e6c"
      },
      "source": [
        "city = input(\"請輸入您所在的城市：\")\n",
        "weather = input(\"請輸入現在的天氣：\")\n",
        "tempc = input(\"請輸入現在的攝氏氣溫：\")\n",
        "tempc = int(tempc)\n",
        "tempf = tempc*9/5 + 32\n",
        "\n",
        "print(\"我在{}，天氣{}，攝氏{}度，華氏{}度\".format(city, weather, tempc, tempf))"
      ],
      "execution_count": 22,
      "outputs": [
        {
          "output_type": "stream",
          "text": [
            "請輸入您所在的城市：TPE\n",
            "請輸入現在的天氣：SUN\n",
            "請輸入現在的攝氏氣溫：26\n",
            "我在TPE，天氣SUN，攝氏26度，華氏78.8度\n"
          ],
          "name": "stdout"
        }
      ]
    },
    {
      "cell_type": "code",
      "metadata": {
        "id": "Ds0Lcv06ktyE",
        "colab_type": "code",
        "colab": {
          "base_uri": "https://localhost:8080/",
          "height": 85
        },
        "outputId": "f228335b-2b2f-487b-e0ca-14e65d2cea38"
      },
      "source": [
        "id_last_digit = input(\"請輸入您身分證字號的尾數：\")\n",
        "id_last_digit = int(id_last_digit)\n",
        "print(id_last_digit)\n",
        "print(type(id_last_digit))\n",
        "modulo = id_last_digit % 2\n",
        "ans = modulo == 1\n",
        "print(ans)"
      ],
      "execution_count": 23,
      "outputs": [
        {
          "output_type": "stream",
          "text": [
            "請輸入您身分證字號的尾數：5\n",
            "5\n",
            "<class 'int'>\n",
            "True\n"
          ],
          "name": "stdout"
        }
      ]
    },
    {
      "cell_type": "code",
      "metadata": {
        "id": "vVdO8S0yk1rz",
        "colab_type": "code",
        "colab": {
          "base_uri": "https://localhost:8080/",
          "height": 51
        },
        "outputId": "15b62c9f-b01e-45a1-c7b9-0bdae72da4bb"
      },
      "source": [
        "print(float('5566'))\n",
        "print(int('5566'))"
      ],
      "execution_count": 24,
      "outputs": [
        {
          "output_type": "stream",
          "text": [
            "5566.0\n",
            "5566\n"
          ],
          "name": "stdout"
        }
      ]
    },
    {
      "cell_type": "code",
      "metadata": {
        "id": "J_0cLMHjk61n",
        "colab_type": "code",
        "colab": {
          "base_uri": "https://localhost:8080/",
          "height": 51
        },
        "outputId": "bee1a256-0ad0-492f-b202-c7423f1d3f0b"
      },
      "source": [
        "print(int(False))\n",
        "print(int(True))"
      ],
      "execution_count": 25,
      "outputs": [
        {
          "output_type": "stream",
          "text": [
            "0\n",
            "1\n"
          ],
          "name": "stdout"
        }
      ]
    },
    {
      "cell_type": "code",
      "metadata": {
        "id": "ShAAfCNbk85K",
        "colab_type": "code",
        "colab": {
          "base_uri": "https://localhost:8080/",
          "height": 51
        },
        "outputId": "01ccfd92-b492-4bbb-d9a0-2af0bf34ab8f"
      },
      "source": [
        "print(float(False))\n",
        "print(float(True))"
      ],
      "execution_count": 26,
      "outputs": [
        {
          "output_type": "stream",
          "text": [
            "0.0\n",
            "1.0\n"
          ],
          "name": "stdout"
        }
      ]
    },
    {
      "cell_type": "code",
      "metadata": {
        "id": "blnLtycCk_J8",
        "colab_type": "code",
        "colab": {
          "base_uri": "https://localhost:8080/",
          "height": 85
        },
        "outputId": "277fb097-34af-4ba2-fec2-491c053fca56"
      },
      "source": [
        "print(bool(0))\n",
        "print(bool(1))\n",
        "print(bool(5566))\n",
        "print(bool(55.66))"
      ],
      "execution_count": 27,
      "outputs": [
        {
          "output_type": "stream",
          "text": [
            "False\n",
            "True\n",
            "True\n",
            "True\n"
          ],
          "name": "stdout"
        }
      ]
    },
    {
      "cell_type": "code",
      "metadata": {
        "id": "lMj2CkunlA2P",
        "colab_type": "code",
        "colab": {
          "base_uri": "https://localhost:8080/",
          "height": 51
        },
        "outputId": "eb98ec69-f70c-43aa-ebc7-6156959b8504"
      },
      "source": [
        "print(bool('False'))\n",
        "print(bool('True'))"
      ],
      "execution_count": 28,
      "outputs": [
        {
          "output_type": "stream",
          "text": [
            "True\n",
            "True\n"
          ],
          "name": "stdout"
        }
      ]
    },
    {
      "cell_type": "code",
      "metadata": {
        "id": "dZ0v6N6-lDqX",
        "colab_type": "code",
        "colab": {
          "base_uri": "https://localhost:8080/",
          "height": 188
        },
        "outputId": "f8c564fb-a7b2-4884-a0e5-a123872c1e42"
      },
      "source": [
        "heip(bin)"
      ],
      "execution_count": 29,
      "outputs": [
        {
          "output_type": "error",
          "ename": "NameError",
          "evalue": "ignored",
          "traceback": [
            "\u001b[0;31m---------------------------------------------------------------------------\u001b[0m",
            "\u001b[0;31mNameError\u001b[0m                                 Traceback (most recent call last)",
            "\u001b[0;32m<ipython-input-29-055ac16d7ec1>\u001b[0m in \u001b[0;36m<module>\u001b[0;34m()\u001b[0m\n\u001b[0;32m----> 1\u001b[0;31m \u001b[0mheip\u001b[0m\u001b[0;34m(\u001b[0m\u001b[0mbin\u001b[0m\u001b[0;34m)\u001b[0m\u001b[0;34m\u001b[0m\u001b[0;34m\u001b[0m\u001b[0m\n\u001b[0m",
            "\u001b[0;31mNameError\u001b[0m: name 'heip' is not defined"
          ]
        }
      ]
    },
    {
      "cell_type": "code",
      "metadata": {
        "id": "IsBvyVr8lFU1",
        "colab_type": "code",
        "colab": {
          "base_uri": "https://localhost:8080/",
          "height": 102
        },
        "outputId": "b6d96010-252d-4f9b-8e4c-ba98aff66814"
      },
      "source": [
        "help(ord)"
      ],
      "execution_count": 30,
      "outputs": [
        {
          "output_type": "stream",
          "text": [
            "Help on built-in function ord in module builtins:\n",
            "\n",
            "ord(c, /)\n",
            "    Return the Unicode code point for a one-character string.\n",
            "\n"
          ],
          "name": "stdout"
        }
      ]
    },
    {
      "cell_type": "code",
      "metadata": {
        "id": "GuHnix3UlIM4",
        "colab_type": "code",
        "colab": {
          "base_uri": "https://localhost:8080/",
          "height": 34
        },
        "outputId": "eca23a81-1b80-41b3-be7c-d886d4e46a31"
      },
      "source": [
        "ord('A')"
      ],
      "execution_count": 31,
      "outputs": [
        {
          "output_type": "execute_result",
          "data": {
            "text/plain": [
              "65"
            ]
          },
          "metadata": {
            "tags": []
          },
          "execution_count": 31
        }
      ]
    },
    {
      "cell_type": "code",
      "metadata": {
        "id": "UNIZtturlKuT",
        "colab_type": "code",
        "colab": {
          "base_uri": "https://localhost:8080/",
          "height": 34
        },
        "outputId": "dd9e2f8d-09ed-404b-d6ab-1c87fe87c255"
      },
      "source": [
        "chr(65)"
      ],
      "execution_count": 32,
      "outputs": [
        {
          "output_type": "execute_result",
          "data": {
            "text/plain": [
              "'A'"
            ]
          },
          "metadata": {
            "tags": []
          },
          "execution_count": 32
        }
      ]
    },
    {
      "cell_type": "code",
      "metadata": {
        "id": "0qyp2BeLlNrD",
        "colab_type": "code",
        "colab": {
          "base_uri": "https://localhost:8080/",
          "height": 34
        },
        "outputId": "61e7424f-0e64-430a-ccc7-48650eca74b2"
      },
      "source": [
        "bin(ord('A'))"
      ],
      "execution_count": 35,
      "outputs": [
        {
          "output_type": "execute_result",
          "data": {
            "text/plain": [
              "'0b1000001'"
            ]
          },
          "metadata": {
            "tags": []
          },
          "execution_count": 35
        }
      ]
    },
    {
      "cell_type": "code",
      "metadata": {
        "id": "wRJWg6kjlRKb",
        "colab_type": "code",
        "colab": {
          "base_uri": "https://localhost:8080/",
          "height": 51
        },
        "outputId": "03fe882c-d7ed-4cbc-97fa-28575c21c5ae"
      },
      "source": [
        "last_id_digit = input('請輸入身分證字號的尾數:')\n",
        "last_id_digit = int(last_id_digit)\n",
        "remainder = last_id_digit % 2\n",
        "# 條件判斷(begin)\n",
        "if remainder == 0: # bool\n",
        "    ans = \"偶數\"\n",
        "else:\n",
        "    ans = \"奇數\"\n",
        "# 條件判斷(end)\n",
        "print(\"身分證字號尾數除以2的餘數為:{}，因此為{}\".format(remainder, ans))"
      ],
      "execution_count": 36,
      "outputs": [
        {
          "output_type": "stream",
          "text": [
            "請輸入身分證字號的尾數:0\n",
            "身分證字號尾數除以2的餘數為:0，因此為偶數\n"
          ],
          "name": "stdout"
        }
      ]
    },
    {
      "cell_type": "code",
      "metadata": {
        "id": "ukUaGHlLlZ8_",
        "colab_type": "code",
        "colab": {
          "base_uri": "https://localhost:8080/",
          "height": 459
        },
        "outputId": "e62988c4-794b-4e04-e26f-af53fbddeb47"
      },
      "source": [
        "# while 迴圈(begin)\n",
        "i = 65\n",
        "while i <= 90: # bool\n",
        "    print(\"Character: {}, Order: {}, Binary: {}\".format(chr(i), i, bin(i)))\n",
        "    i += 1\n",
        "# while 迴圈(end)"
      ],
      "execution_count": 37,
      "outputs": [
        {
          "output_type": "stream",
          "text": [
            "Character: A, Order: 65, Binary: 0b1000001\n",
            "Character: B, Order: 66, Binary: 0b1000010\n",
            "Character: C, Order: 67, Binary: 0b1000011\n",
            "Character: D, Order: 68, Binary: 0b1000100\n",
            "Character: E, Order: 69, Binary: 0b1000101\n",
            "Character: F, Order: 70, Binary: 0b1000110\n",
            "Character: G, Order: 71, Binary: 0b1000111\n",
            "Character: H, Order: 72, Binary: 0b1001000\n",
            "Character: I, Order: 73, Binary: 0b1001001\n",
            "Character: J, Order: 74, Binary: 0b1001010\n",
            "Character: K, Order: 75, Binary: 0b1001011\n",
            "Character: L, Order: 76, Binary: 0b1001100\n",
            "Character: M, Order: 77, Binary: 0b1001101\n",
            "Character: N, Order: 78, Binary: 0b1001110\n",
            "Character: O, Order: 79, Binary: 0b1001111\n",
            "Character: P, Order: 80, Binary: 0b1010000\n",
            "Character: Q, Order: 81, Binary: 0b1010001\n",
            "Character: R, Order: 82, Binary: 0b1010010\n",
            "Character: S, Order: 83, Binary: 0b1010011\n",
            "Character: T, Order: 84, Binary: 0b1010100\n",
            "Character: U, Order: 85, Binary: 0b1010101\n",
            "Character: V, Order: 86, Binary: 0b1010110\n",
            "Character: W, Order: 87, Binary: 0b1010111\n",
            "Character: X, Order: 88, Binary: 0b1011000\n",
            "Character: Y, Order: 89, Binary: 0b1011001\n",
            "Character: Z, Order: 90, Binary: 0b1011010\n"
          ],
          "name": "stdout"
        }
      ]
    },
    {
      "cell_type": "code",
      "metadata": {
        "id": "lA0btiBAlfkB",
        "colab_type": "code",
        "colab": {
          "base_uri": "https://localhost:8080/",
          "height": 34
        },
        "outputId": "feb359f7-8ff4-46f8-d55c-ba36fc130dec"
      },
      "source": [
        "member_ages = [18, 20, 22, 25, 35, 42, 65]\n",
        "# 資料篩選(begin)\n",
        "list(filter(lambda x: x <= 25 and x >= 18, member_ages))"
      ],
      "execution_count": 38,
      "outputs": [
        {
          "output_type": "execute_result",
          "data": {
            "text/plain": [
              "[18, 20, 22, 25]"
            ]
          },
          "metadata": {
            "tags": []
          },
          "execution_count": 38
        }
      ]
    },
    {
      "cell_type": "code",
      "metadata": {
        "id": "vCWPD71wliul",
        "colab_type": "code",
        "colab": {
          "base_uri": "https://localhost:8080/",
          "height": 68
        },
        "outputId": "6886a8f8-49a0-41dc-f6aa-2ee07476835d"
      },
      "source": [
        "if True:\n",
        "    print(5566)\n",
        "    print(1122)\n",
        "print(7788)"
      ],
      "execution_count": 39,
      "outputs": [
        {
          "output_type": "stream",
          "text": [
            "5566\n",
            "1122\n",
            "7788\n"
          ],
          "name": "stdout"
        }
      ]
    },
    {
      "cell_type": "code",
      "metadata": {
        "id": "8rlNMp5mllxb",
        "colab_type": "code",
        "colab": {
          "base_uri": "https://localhost:8080/",
          "height": 34
        },
        "outputId": "17a52434-8070-4d22-ceae-49e971c941bd"
      },
      "source": [
        "if False:\n",
        "    print(5566)\n",
        "    print(1122)\n",
        "print(7788)"
      ],
      "execution_count": 40,
      "outputs": [
        {
          "output_type": "stream",
          "text": [
            "7788\n"
          ],
          "name": "stdout"
        }
      ]
    },
    {
      "cell_type": "code",
      "metadata": {
        "id": "2_KUNkE_loUC",
        "colab_type": "code",
        "colab": {
          "base_uri": "https://localhost:8080/",
          "height": 68
        },
        "outputId": "003afdb0-8751-4542-dd0f-8d0bc8f7fb5e"
      },
      "source": [
        "movie_title = input('請輸入電影的名稱:')\n",
        "movie_rating = input('請輸入電影的評等:')\n",
        "movie_rating = float(movie_rating)\n",
        "\n",
        "if movie_rating > 7:\n",
        "    print(\"{}的評分為 {} 分值得去看！\".format(movie_title, movie_rating))"
      ],
      "execution_count": 41,
      "outputs": [
        {
          "output_type": "stream",
          "text": [
            "請輸入電影的名稱:陽光普照\n",
            "請輸入電影的評等:7.7\n",
            "陽光普照的評分為 7.7 分值得去看！\n"
          ],
          "name": "stdout"
        }
      ]
    },
    {
      "cell_type": "code",
      "metadata": {
        "id": "ilklbo-ZltM1",
        "colab_type": "code",
        "colab": {
          "base_uri": "https://localhost:8080/",
          "height": 34
        },
        "outputId": "91a70fb1-8dc1-4954-e842-4d2b3cabb045"
      },
      "source": [
        "movie_rating > 7\n"
      ],
      "execution_count": 42,
      "outputs": [
        {
          "output_type": "execute_result",
          "data": {
            "text/plain": [
              "True"
            ]
          },
          "metadata": {
            "tags": []
          },
          "execution_count": 42
        }
      ]
    },
    {
      "cell_type": "code",
      "metadata": {
        "id": "SfBfeftFl3ri",
        "colab_type": "code",
        "colab": {
          "base_uri": "https://localhost:8080/",
          "height": 51
        },
        "outputId": "ed6dbbec-14c4-47d8-be6f-203f63b3ce63"
      },
      "source": [
        "movie_title = input('請輸入電影的名稱:')\n",
        "movie_rating = input('請輸入電影的評等:')\n",
        "movie_rating = float(movie_rating)\n",
        "\n",
        "if movie_rating > 7:\n",
        "    print(\"{}的評分為 {} 分值得去看！\".format(movie_title, movie_rating))"
      ],
      "execution_count": 43,
      "outputs": [
        {
          "output_type": "stream",
          "text": [
            "請輸入電影的名稱:巨齒鯊\n",
            "請輸入電影的評等:5.5\n"
          ],
          "name": "stdout"
        }
      ]
    },
    {
      "cell_type": "code",
      "metadata": {
        "id": "27goqZxJl6Ve",
        "colab_type": "code",
        "colab": {
          "base_uri": "https://localhost:8080/",
          "height": 34
        },
        "outputId": "1f433298-5435-494c-89dd-496848878757"
      },
      "source": [
        "movie_rating > 7"
      ],
      "execution_count": 44,
      "outputs": [
        {
          "output_type": "execute_result",
          "data": {
            "text/plain": [
              "False"
            ]
          },
          "metadata": {
            "tags": []
          },
          "execution_count": 44
        }
      ]
    },
    {
      "cell_type": "code",
      "metadata": {
        "id": "SRQQfyaGmASI",
        "colab_type": "code",
        "colab": {
          "base_uri": "https://localhost:8080/",
          "height": 68
        },
        "outputId": "5d644cdb-df4c-47d2-ee4a-897843211eb9"
      },
      "source": [
        "movie_title = input('請輸入電影的名稱:')\n",
        "movie_rating = input('請輸入電影的評等:')\n",
        "movie_rating = float(movie_rating)\n",
        "\n",
        "if movie_rating > 7:\n",
        "    print(\"{}的評分為 {} 分值得去看！\".format(movie_title, movie_rating))\n",
        "if movie_rating <= 7:\n",
        "    print(\"{}的評分為 {} 分不值得去看，浪費時間！\".format(movie_title, movie_rating))"
      ],
      "execution_count": 45,
      "outputs": [
        {
          "output_type": "stream",
          "text": [
            "請輸入電影的名稱:巨齒鯊\n",
            "請輸入電影的評等:5.5\n",
            "巨齒鯊的評分為 5.5 分不值得去看，浪費時間！\n"
          ],
          "name": "stdout"
        }
      ]
    },
    {
      "cell_type": "code",
      "metadata": {
        "id": "0bfY4sHbmE2O",
        "colab_type": "code",
        "colab": {
          "base_uri": "https://localhost:8080/",
          "height": 102
        },
        "outputId": "552c4659-c0a9-438f-bec3-2f47f06224c4"
      },
      "source": [
        "monthly_income = input(\"請輸入月薪：\")\n",
        "saving_account = input(\"請輸入存款：\")\n",
        "monthly_income = int(monthly_income)\n",
        "saving_account = int(saving_account)\n",
        "print(type(monthly_income))\n",
        "print(type(saving_account))\n",
        "ans = \"\"\n",
        "# 條件判斷(begin)\n",
        "if monthly_income > 40000:\n",
        "    ans = \"發信用卡\"\n",
        "if saving_account > 500000:\n",
        "    ans = \"發信用卡\"\n",
        "# 條件判斷(end)\n",
        "print(ans)"
      ],
      "execution_count": 46,
      "outputs": [
        {
          "output_type": "stream",
          "text": [
            "請輸入月薪：39999\n",
            "請輸入存款：499999\n",
            "<class 'int'>\n",
            "<class 'int'>\n",
            "\n"
          ],
          "name": "stdout"
        }
      ]
    },
    {
      "cell_type": "code",
      "metadata": {
        "id": "zkhkV2PjmMBn",
        "colab_type": "code",
        "colab": {
          "base_uri": "https://localhost:8080/",
          "height": 68
        },
        "outputId": "7314d546-c81a-4165-c0d8-1b49fbc530c8"
      },
      "source": [
        "monthly_income = input(\"請輸入月薪：\")\n",
        "saving_account = input(\"請輸入存款：\")\n",
        "monthly_income = int(monthly_income)\n",
        "saving_account = int(saving_account)\n",
        "\n",
        "print(monthly_income > 40000 and saving_account > 500000)"
      ],
      "execution_count": 47,
      "outputs": [
        {
          "output_type": "stream",
          "text": [
            "請輸入月薪：39999\n",
            "請輸入存款：49999\n",
            "False\n"
          ],
          "name": "stdout"
        }
      ]
    },
    {
      "cell_type": "code",
      "metadata": {
        "id": "Juz6DKqvmUdz",
        "colab_type": "code",
        "colab": {
          "base_uri": "https://localhost:8080/",
          "height": 68
        },
        "outputId": "c6615bb4-11ca-409f-f3be-2a93dbd27031"
      },
      "source": [
        "monthly_income = input(\"請輸入月薪：\")\n",
        "saving_account = input(\"請輸入存款：\")\n",
        "monthly_income = int(monthly_income)\n",
        "saving_account = int(saving_account)\n",
        "\n",
        "print(monthly_income > 40000 and saving_account > 500000)"
      ],
      "execution_count": 48,
      "outputs": [
        {
          "output_type": "stream",
          "text": [
            "請輸入月薪：40003\n",
            "請輸入存款：49999\n",
            "False\n"
          ],
          "name": "stdout"
        }
      ]
    },
    {
      "cell_type": "code",
      "metadata": {
        "id": "CRBdjPH0mYpq",
        "colab_type": "code",
        "colab": {
          "base_uri": "https://localhost:8080/",
          "height": 68
        },
        "outputId": "e43b102e-a856-4030-a53d-93b05b9fea2c"
      },
      "source": [
        "monthly_income = input(\"請輸入月薪：\")\n",
        "saving_account = input(\"請輸入存款：\")\n",
        "monthly_income = int(monthly_income)\n",
        "saving_account = int(saving_account)\n",
        "\n",
        "print(monthly_income > 40000 and saving_account > 500000)"
      ],
      "execution_count": 49,
      "outputs": [
        {
          "output_type": "stream",
          "text": [
            "請輸入月薪：30000\n",
            "請輸入存款：50020\n",
            "False\n"
          ],
          "name": "stdout"
        }
      ]
    },
    {
      "cell_type": "code",
      "metadata": {
        "id": "BWRlQw73meuV",
        "colab_type": "code",
        "colab": {
          "base_uri": "https://localhost:8080/",
          "height": 68
        },
        "outputId": "806493bc-e10c-454c-e9a1-d40156210c8e"
      },
      "source": [
        "monthly_income = input(\"請輸入月薪：\")\n",
        "saving_account = input(\"請輸入存款：\")\n",
        "monthly_income = int(monthly_income)\n",
        "saving_account = int(saving_account)\n",
        "\n",
        "print(monthly_income > 40000 and saving_account > 500000)"
      ],
      "execution_count": 50,
      "outputs": [
        {
          "output_type": "stream",
          "text": [
            "請輸入月薪：40001\n",
            "請輸入存款：500002\n",
            "True\n"
          ],
          "name": "stdout"
        }
      ]
    },
    {
      "cell_type": "code",
      "metadata": {
        "id": "rwB7I1IImklF",
        "colab_type": "code",
        "colab": {
          "base_uri": "https://localhost:8080/",
          "height": 102
        },
        "outputId": "2e0caf5b-1fca-40c3-85c3-dfdd2669543a"
      },
      "source": [
        "monthly_income = input(\"請輸入月薪：\")\n",
        "saving_account = input(\"請輸入存款：\")\n",
        "monthly_income = int(monthly_income)\n",
        "saving_account = int(saving_account)\n",
        "print(type(monthly_income))\n",
        "print(type(saving_account))\n",
        "ans = \"\"\n",
        "# 條件判斷(begin)\n",
        "if monthly_income > 40000 or saving_account > 500000:\n",
        "    ans = \"發信用卡\"\n",
        "# 條件判斷(end)\n",
        "print(ans)"
      ],
      "execution_count": 51,
      "outputs": [
        {
          "output_type": "stream",
          "text": [
            "請輸入月薪：40001\n",
            "請輸入存款：499999\n",
            "<class 'int'>\n",
            "<class 'int'>\n",
            "發信用卡\n"
          ],
          "name": "stdout"
        }
      ]
    },
    {
      "cell_type": "code",
      "metadata": {
        "id": "jyEfPM-omzFc",
        "colab_type": "code",
        "colab": {
          "base_uri": "https://localhost:8080/",
          "height": 68
        },
        "outputId": "aeb6be9a-bf05-4a05-c41a-134e93bc3e91"
      },
      "source": [
        "movie_title = input('請輸入電影的名稱:')\n",
        "movie_rating = input('請輸入電影的評等:')\n",
        "movie_rating = float(movie_rating)\n",
        "\n",
        "if movie_rating > 7:\n",
        "    print(\"{}的評分為 {} 分值得去看！\".format(movie_title, movie_rating))\n",
        "else:\n",
        "    print(\"{}的評分為 {} 分不值得去看，浪費時間！\".format(movie_title, movie_rating))"
      ],
      "execution_count": 52,
      "outputs": [
        {
          "output_type": "stream",
          "text": [
            "請輸入電影的名稱:陽光普照\n",
            "請輸入電影的評等:7.7\n",
            "陽光普照的評分為 7.7 分值得去看！\n"
          ],
          "name": "stdout"
        }
      ]
    },
    {
      "cell_type": "code",
      "metadata": {
        "id": "u7jm_Rrkm7Yw",
        "colab_type": "code",
        "colab": {
          "base_uri": "https://localhost:8080/",
          "height": 68
        },
        "outputId": "0913eed2-d640-4b08-d524-75ec80aa25d3"
      },
      "source": [
        "movie_title = input('請輸入電影的名稱:')\n",
        "movie_rating = input('請輸入電影的評等:')\n",
        "movie_rating = float(movie_rating)\n",
        "\n",
        "if movie_rating > 7:\n",
        "    print(\"{}的評分為 {} 分值得去看！\".format(movie_title, movie_rating))\n",
        "else:\n",
        "    print(\"{}的評分為 {} 分不值得去看，浪費時間！\".format(movie_title, movie_rating))"
      ],
      "execution_count": 53,
      "outputs": [
        {
          "output_type": "stream",
          "text": [
            "請輸入電影的名稱:巨齒鯊\n",
            "請輸入電影的評等:5.5\n",
            "巨齒鯊的評分為 5.5 分不值得去看，浪費時間！\n"
          ],
          "name": "stdout"
        }
      ]
    },
    {
      "cell_type": "code",
      "metadata": {
        "id": "Ycg7TBvknBN_",
        "colab_type": "code",
        "colab": {
          "base_uri": "https://localhost:8080/",
          "height": 51
        },
        "outputId": "46e903b8-5ef4-4c36-e861-21abe81f94b3"
      },
      "source": [
        "user_int = input(\"請輸入一個正整數：\")\n",
        "user_int = int(user_int)\n",
        "if user_int % 2 == 0:\n",
        "    ans = \"偶數\"\n",
        "else:\n",
        "    ans = \"奇數\"\n",
        "print(ans)"
      ],
      "execution_count": 54,
      "outputs": [
        {
          "output_type": "stream",
          "text": [
            "請輸入一個正整數：5555\n",
            "奇數\n"
          ],
          "name": "stdout"
        }
      ]
    },
    {
      "cell_type": "code",
      "metadata": {
        "id": "GjNQ6P2unI2S",
        "colab_type": "code",
        "colab": {
          "base_uri": "https://localhost:8080/",
          "height": 51
        },
        "outputId": "1b8677a6-7470-4f89-8221-efddef4bdbf0"
      },
      "source": [
        "user_int = input(\"請輸入一個正整數：\")\n",
        "user_int = int(user_int)\n",
        "if user_int % 2 == 0:\n",
        "    ans = \"偶數\"\n",
        "else:\n",
        "    ans = \"奇數\"\n",
        "print(ans)\n"
      ],
      "execution_count": 55,
      "outputs": [
        {
          "output_type": "stream",
          "text": [
            "請輸入一個正整數：87\n",
            "奇數\n"
          ],
          "name": "stdout"
        }
      ]
    },
    {
      "cell_type": "code",
      "metadata": {
        "id": "tTKVCv5xnN0h",
        "colab_type": "code",
        "colab": {
          "base_uri": "https://localhost:8080/",
          "height": 51
        },
        "outputId": "209fe306-11f0-4492-aade-01b7748c7e2d"
      },
      "source": [
        "user_int = input(\"請輸入一個正整數：\")\n",
        "user_int = int(user_int)\n",
        "if user_int % 2 == 0:\n",
        "    ans = \"偶數\"\n",
        "if user_int % 2 == 1:\n",
        "    ans = \"奇數\"\n",
        "print(ans)"
      ],
      "execution_count": 56,
      "outputs": [
        {
          "output_type": "stream",
          "text": [
            "請輸入一個正整數：34556\n",
            "偶數\n"
          ],
          "name": "stdout"
        }
      ]
    },
    {
      "cell_type": "code",
      "metadata": {
        "id": "wlxgtE8EnT2a",
        "colab_type": "code",
        "colab": {
          "base_uri": "https://localhost:8080/",
          "height": 51
        },
        "outputId": "ea474f40-036c-4c6e-ab3e-f38d849f1bab"
      },
      "source": [
        "user_int = input(\"請輸入一個正整數：\")\n",
        "user_int = int(user_int)\n",
        "if user_int % 2 == 0:\n",
        "    ans = \"偶數\"\n",
        "if user_int % 2 == 1:\n",
        "    ans = \"奇數\"\n",
        "print(ans)"
      ],
      "execution_count": 57,
      "outputs": [
        {
          "output_type": "stream",
          "text": [
            "請輸入一個正整數：543233\n",
            "奇數\n"
          ],
          "name": "stdout"
        }
      ]
    },
    {
      "cell_type": "code",
      "metadata": {
        "id": "RB_C__IGnX2B",
        "colab_type": "code",
        "colab": {
          "base_uri": "https://localhost:8080/",
          "height": 51
        },
        "outputId": "e613404c-a5f0-48d5-d505-47a55cef7524"
      },
      "source": [
        "id_last_digit = input(\"請輸入身分證字號的尾數：\")\n",
        "id_last_digit = int(id_last_digit)\n",
        "if id_last_digit % 2 == 0:\n",
        "    ans = \"星期二四六日領\"\n",
        "else:\n",
        "    ans = \"星期一三五日領\"\n",
        "print(ans)"
      ],
      "execution_count": 58,
      "outputs": [
        {
          "output_type": "stream",
          "text": [
            "請輸入身分證字號的尾數：0\n",
            "星期二四六日領\n"
          ],
          "name": "stdout"
        }
      ]
    },
    {
      "cell_type": "code",
      "metadata": {
        "id": "IwjNN8IDndVt",
        "colab_type": "code",
        "colab": {
          "base_uri": "https://localhost:8080/",
          "height": 51
        },
        "outputId": "3996722a-8dfd-4b19-b157-1fa3287ab9e3"
      },
      "source": [
        "id_last_digit = input(\"請輸入身分證字號的尾數：\")\n",
        "id_last_digit = int(id_last_digit)\n",
        "if id_last_digit % 2 == 0:\n",
        "    ans = \"星期二四六日領\"\n",
        "else:\n",
        "    ans = \"星期一三五日領\"\n",
        "print(ans)"
      ],
      "execution_count": 59,
      "outputs": [
        {
          "output_type": "stream",
          "text": [
            "請輸入身分證字號的尾數：1\n",
            "星期一三五日領\n"
          ],
          "name": "stdout"
        }
      ]
    },
    {
      "cell_type": "code",
      "metadata": {
        "id": "8CEWTgT_nhgj",
        "colab_type": "code",
        "colab": {
          "base_uri": "https://localhost:8080/",
          "height": 51
        },
        "outputId": "bba073e9-6428-4045-9330-e439c8600184"
      },
      "source": [
        "id_number = input(\"請輸入身分證字號：\")\n",
        "id_last_digit = id_number[-1]\n",
        "id_last_digit = int(id_last_digit)\n",
        "if id_last_digit % 2 == 0:\n",
        "    ans = \"星期二四六日領\"\n",
        "else:\n",
        "    ans = \"星期一三五日領\"\n",
        "print(ans)"
      ],
      "execution_count": 60,
      "outputs": [
        {
          "output_type": "stream",
          "text": [
            "請輸入身分證字號：a123456789\n",
            "星期一三五日領\n"
          ],
          "name": "stdout"
        }
      ]
    },
    {
      "cell_type": "code",
      "metadata": {
        "id": "RiHZ_g-AnmYe",
        "colab_type": "code",
        "colab": {
          "base_uri": "https://localhost:8080/",
          "height": 51
        },
        "outputId": "adcfbf74-8b71-44a1-c12c-e9aa4191b4a3"
      },
      "source": [
        "id_number = input(\"請輸入身分證字號：\")\n",
        "id_last_digit = id_number[-1]\n",
        "id_last_digit = int(id_last_digit)\n",
        "if id_last_digit % 2 == 0:\n",
        "    ans = \"星期二四六日領\"\n",
        "else:\n",
        "    ans = \"星期一三五日領\"\n",
        "print(ans)"
      ],
      "execution_count": 61,
      "outputs": [
        {
          "output_type": "stream",
          "text": [
            "請輸入身分證字號：A1234567890\n",
            "星期二四六日領\n"
          ],
          "name": "stdout"
        }
      ]
    },
    {
      "cell_type": "code",
      "metadata": {
        "id": "1H110-FtnrXe",
        "colab_type": "code",
        "colab": {
          "base_uri": "https://localhost:8080/",
          "height": 51
        },
        "outputId": "939b080c-a78c-4a3f-ab82-217631b13604"
      },
      "source": [
        "id_number = input(\"請輸入身分證字號：\")\n",
        "id_second_digit = id_number[1]\n",
        "print(id_second_digit)"
      ],
      "execution_count": 62,
      "outputs": [
        {
          "output_type": "stream",
          "text": [
            "請輸入身分證字號：A123456789\n",
            "1\n"
          ],
          "name": "stdout"
        }
      ]
    },
    {
      "cell_type": "code",
      "metadata": {
        "id": "w2PisPgnoPG7",
        "colab_type": "code",
        "colab": {
          "base_uri": "https://localhost:8080/",
          "height": 51
        },
        "outputId": "637f833c-2ce0-4ed3-f480-7b5d355852c2"
      },
      "source": [
        "id_number = input(\"請輸入身分證字號：\")\n",
        "id_second_digit = id_number[1]\n",
        "print(id_second_digit)"
      ],
      "execution_count": 63,
      "outputs": [
        {
          "output_type": "stream",
          "text": [
            "請輸入身分證字號：A234567890\n",
            "2\n"
          ],
          "name": "stdout"
        }
      ]
    },
    {
      "cell_type": "code",
      "metadata": {
        "id": "5yi63CI_oTGK",
        "colab_type": "code",
        "colab": {
          "base_uri": "https://localhost:8080/",
          "height": 51
        },
        "outputId": "50566aa1-49da-41cf-9304-fa901c21684d"
      },
      "source": [
        "id_number = input(\"請輸入身分證字號：\")\n",
        "id_second_digit = id_number[1]\n",
        "if id_second_digit == '1':\n",
        "    gender = \"Male\"\n",
        "else:\n",
        "    gender = \"Female\"\n",
        "print(gender)"
      ],
      "execution_count": 64,
      "outputs": [
        {
          "output_type": "stream",
          "text": [
            "請輸入身分證字號：A123456789\n",
            "Male\n"
          ],
          "name": "stdout"
        }
      ]
    },
    {
      "cell_type": "code",
      "metadata": {
        "id": "BZf3FKDOoZk-",
        "colab_type": "code",
        "colab": {
          "base_uri": "https://localhost:8080/",
          "height": 51
        },
        "outputId": "9c83984e-cda3-48ae-de7b-71981de8ce78"
      },
      "source": [
        "id_number = input(\"請輸入身分證字號：\")\n",
        "id_second_digit = id_number[1]\n",
        "if id_second_digit == '1':\n",
        "    gender = \"Male\"\n",
        "else:\n",
        "    gender = \"Female\"\n",
        "print(gender)"
      ],
      "execution_count": 65,
      "outputs": [
        {
          "output_type": "stream",
          "text": [
            "請輸入身分證字號：A234567890\n",
            "Female\n"
          ],
          "name": "stdout"
        }
      ]
    },
    {
      "cell_type": "code",
      "metadata": {
        "id": "12WiyuSgoecB",
        "colab_type": "code",
        "colab": {
          "base_uri": "https://localhost:8080/",
          "height": 68
        },
        "outputId": "242ff233-7e51-4ac8-9877-2919aad95b00"
      },
      "source": [
        "movie_title = input(\"請輸入電影名稱：\")\n",
        "movie_rating = input(\"請輸入電影評分：\")\n",
        "movie_rating = float(movie_rating)\n",
        "\n",
        "if movie_rating > 7:\n",
        "    print(\"去電影院看{}\".format(movie_title))\n",
        "if movie_rating > 6:\n",
        "    print(\"在家裡看{}\".format(movie_title))\n",
        "if movie_rating <= 6:\n",
        "    print(\"不要看{}\".format(movie_title))"
      ],
      "execution_count": 66,
      "outputs": [
        {
          "output_type": "stream",
          "text": [
            "請輸入電影名稱：環大西洋\n",
            "請輸入電影評分：1.6\n",
            "不要看環大西洋\n"
          ],
          "name": "stdout"
        }
      ]
    },
    {
      "cell_type": "code",
      "metadata": {
        "id": "SybhkJdbojNz",
        "colab_type": "code",
        "colab": {
          "base_uri": "https://localhost:8080/",
          "height": 68
        },
        "outputId": "0b61a03a-8a89-487b-824a-8693141acebb"
      },
      "source": [
        "input_height = float(input(\"請輸入身高（公分）：\"))\n",
        "input_weight = float(input(\"請輸入體重（公斤）：\"))\n",
        "bmi = input_weight / (input_height*0.01)**2\n",
        "if bmi > 30:\n",
        "    label = \"Obese\"\n",
        "elif bmi > 25 and bmi <= 30:\n",
        "    label = \"Overweight\"\n",
        "elif bmi > 18.5:\n",
        "    label = \"Normal weight\"\n",
        "else:\n",
        "    label = \"Underweight\"\n",
        "print(label)"
      ],
      "execution_count": 67,
      "outputs": [
        {
          "output_type": "stream",
          "text": [
            "請輸入身高（公分）：198\n",
            "請輸入體重（公斤）：129\n",
            "Obese\n"
          ],
          "name": "stdout"
        }
      ]
    },
    {
      "cell_type": "code",
      "metadata": {
        "id": "wWTVwUZKorLw",
        "colab_type": "code",
        "colab": {
          "base_uri": "https://localhost:8080/",
          "height": 34
        },
        "outputId": "22d61e69-c7da-463c-d0b8-ea8cd223be02"
      },
      "source": [
        "bmi = 31\n",
        "print(25 < bmi  <= 30)"
      ],
      "execution_count": 68,
      "outputs": [
        {
          "output_type": "stream",
          "text": [
            "False\n"
          ],
          "name": "stdout"
        }
      ]
    },
    {
      "cell_type": "code",
      "metadata": {
        "id": "f4npf94do4Ws",
        "colab_type": "code",
        "colab": {}
      },
      "source": [
        ""
      ],
      "execution_count": 0,
      "outputs": []
    }
  ]
}