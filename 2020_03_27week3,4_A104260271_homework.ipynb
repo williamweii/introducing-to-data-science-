{
  "nbformat": 4,
  "nbformat_minor": 0,
  "metadata": {
    "colab": {
      "name": "2020-03-27week3,4--A104260271--homework.ipynb",
      "provenance": [],
      "collapsed_sections": []
    },
    "kernelspec": {
      "name": "python3",
      "display_name": "Python 3"
    }
  },
  "cells": [
    {
      "cell_type": "code",
      "metadata": {
        "id": "FJQ8PGU3kkhl",
        "colab_type": "code",
        "colab": {
          "base_uri": "https://localhost:8080/",
          "height": 68
        },
        "outputId": "a4787604-9878-4cee-f616-9e6fed35f97c"
      },
      "source": [
        "movie_title = \"陽光普照\"\n",
        "movie_rating = 7.7\n",
        "movie_time = 156\n",
        "\n",
        "print(movie_title)\n",
        "print(movie_rating)\n",
        "print(movie_time)\n"
      ],
      "execution_count": 1,
      "outputs": [
        {
          "output_type": "stream",
          "text": [
            "陽光普照\n",
            "7.7\n",
            "156\n"
          ],
          "name": "stdout"
        }
      ]
    },
    {
      "cell_type": "code",
      "metadata": {
        "id": "zDnccqT_lXCm",
        "colab_type": "code",
        "colab": {
          "base_uri": "https://localhost:8080/",
          "height": 68
        },
        "outputId": "154fe83a-0218-4548-fa4d-745ae572ada1"
      },
      "source": [
        "print(type(movie_title))\n",
        "print(type(movie_rating))\n",
        "print(type(movie_time))\n",
        "\n"
      ],
      "execution_count": 2,
      "outputs": [
        {
          "output_type": "stream",
          "text": [
            "<class 'str'>\n",
            "<class 'float'>\n",
            "<class 'int'>\n"
          ],
          "name": "stdout"
        }
      ]
    },
    {
      "cell_type": "code",
      "metadata": {
        "id": "Itcp8pIvlnml",
        "colab_type": "code",
        "colab": {
          "base_uri": "https://localhost:8080/",
          "height": 34
        },
        "outputId": "7ef32bc5-82c7-4629-b094-d17eb147aad5"
      },
      "source": [
        "movie_time_hour = 2\n",
        "movie_time_min = 36\n",
        "movie_time_min = movie_time_min + movie_time_hour * 60\n",
        "print(movie_time_min)"
      ],
      "execution_count": 3,
      "outputs": [
        {
          "output_type": "stream",
          "text": [
            "156\n"
          ],
          "name": "stdout"
        }
      ]
    },
    {
      "cell_type": "code",
      "metadata": {
        "id": "lVkO_meczuFC",
        "colab_type": "code",
        "colab": {
          "base_uri": "https://localhost:8080/",
          "height": 34
        },
        "outputId": "4d37b7c1-34fc-450a-8c9a-95f1f5c317e0"
      },
      "source": [
        "print (\"I'm lovin' it\")"
      ],
      "execution_count": 4,
      "outputs": [
        {
          "output_type": "stream",
          "text": [
            "I'm lovin' it\n"
          ],
          "name": "stdout"
        }
      ]
    },
    {
      "cell_type": "code",
      "metadata": {
        "id": "XaqekrlJ3Vs8",
        "colab_type": "code",
        "colab": {
          "base_uri": "https://localhost:8080/",
          "height": 105
        },
        "outputId": "1305b6a3-839f-47b4-d404-785857915529"
      },
      "source": [
        "ross_said = \"\"\"\n",
        "Let's put aside the fact that you \"accidentally\" pick up my grandmother's ring.\n",
        "\"\"\"\n",
        "print(ross_said)\n",
        "print(type(ross_said))"
      ],
      "execution_count": 8,
      "outputs": [
        {
          "output_type": "stream",
          "text": [
            "\n",
            "Let's put aside the fact that you \"accidentally\" pick up my grandmother's ring.\n",
            "\n",
            "<class 'str'>\n"
          ],
          "name": "stdout"
        }
      ]
    },
    {
      "cell_type": "code",
      "metadata": {
        "id": "VY-xeifb3hJG",
        "colab_type": "code",
        "colab": {
          "base_uri": "https://localhost:8080/",
          "height": 54
        },
        "outputId": "7f859325-9921-4aba-c176-744e6764ec6b"
      },
      "source": [
        "ross_said = \"\"\"Let's put aside the fact that you \"accidentally\" pick up my grandmother's ring.\"\"\"\n",
        "print(ross_said)"
      ],
      "execution_count": 9,
      "outputs": [
        {
          "output_type": "stream",
          "text": [
            "Let's put aside the fact that you \"accidentally\" pick up my grandmother's ring.\n"
          ],
          "name": "stdout"
        }
      ]
    },
    {
      "cell_type": "code",
      "metadata": {
        "id": "PHfsDm69_L3f",
        "colab_type": "code",
        "colab": {
          "base_uri": "https://localhost:8080/",
          "height": 51
        },
        "outputId": "903fbd5b-2468-4a51-a7d5-a0ea7b17c478"
      },
      "source": [
        "shaq = 'Shaquille O\\'Neal'\n",
        "print(shaq)\n",
        "print(type(shaq))"
      ],
      "execution_count": 10,
      "outputs": [
        {
          "output_type": "stream",
          "text": [
            "Shaquille O'Neal\n",
            "<class 'str'>\n"
          ],
          "name": "stdout"
        }
      ]
    },
    {
      "cell_type": "code",
      "metadata": {
        "id": "duLPCEK3_WhM",
        "colab_type": "code",
        "colab": {
          "base_uri": "https://localhost:8080/",
          "height": 34
        },
        "outputId": "7cc6af88-2822-42b8-f2d4-56c9feb05220"
      },
      "source": [
        "current_celsius = 28\n",
        "current_fahrenheit = current_celsius * 9 / 5 + 32\n",
        "print(current_fahrenheit)"
      ],
      "execution_count": 11,
      "outputs": [
        {
          "output_type": "stream",
          "text": [
            "82.4\n"
          ],
          "name": "stdout"
        }
      ]
    },
    {
      "cell_type": "code",
      "metadata": {
        "id": "hVRAFYk-_eq2",
        "colab_type": "code",
        "colab": {
          "base_uri": "https://localhost:8080/",
          "height": 34
        },
        "outputId": "f190e059-d66c-4f6f-938e-096ac2d1e074"
      },
      "source": [
        "shaq_height = 216\n",
        "shaq_weight = 147\n",
        "shaq_bmi = shaq_weight / (shaq_height/100)**2\n",
        "print(shaq_bmi)"
      ],
      "execution_count": 15,
      "outputs": [
        {
          "output_type": "stream",
          "text": [
            "31.507201646090532\n"
          ],
          "name": "stdout"
        }
      ]
    },
    {
      "cell_type": "code",
      "metadata": {
        "id": "SHzkQ3ZK_2YZ",
        "colab_type": "code",
        "colab": {
          "base_uri": "https://localhost:8080/",
          "height": 68
        },
        "outputId": "a8df05e9-3086-4058-b170-c296431cffdf"
      },
      "source": [
        "city_name = input()\n",
        "city_weather = input()\n",
        "print (\"我在\" + city_name + \"天氣\" + city_weather)"
      ],
      "execution_count": 22,
      "outputs": [
        {
          "output_type": "stream",
          "text": [
            "台北\n",
            "晴\n",
            "我在台北天氣晴\n"
          ],
          "name": "stdout"
        }
      ]
    },
    {
      "cell_type": "code",
      "metadata": {
        "id": "wFpSIj_FADyU",
        "colab_type": "code",
        "colab": {
          "base_uri": "https://localhost:8080/",
          "height": 85
        },
        "outputId": "4eccbebb-5c1f-495b-97a1-bc34f753f5eb"
      },
      "source": [
        "player_name = input(\"球員名\")\n",
        "player_height = float (input(\"球員身高\"))\n",
        "player_weight = float (input(\"球員體重\"))\n",
        "player_bmi = player_weight / (player_height/100)**2\n",
        "player_bmi = float (player_bmi)\n",
        "if player_bmi > 35:\n",
        "  print(\"{}的BMI為{} ,重度肥胖！\" .format(player_name, player_bmi))\n",
        "elif player_bmi > 27:\n",
        "  print(\"{}的BMI為{} ,肥胖！\" .format(player_name, player_bmi))\n",
        "else:\n",
        "  print(\"{}的BMI為 {} ,SAFE!\".format(player_name, player_bmi))"
      ],
      "execution_count": 25,
      "outputs": [
        {
          "output_type": "stream",
          "text": [
            "球員名w\n",
            "球員身高180\n",
            "球員體重75\n",
            "wBMI為 23.148148148148145 SAFE!\n"
          ],
          "name": "stdout"
        }
      ]
    },
    {
      "cell_type": "code",
      "metadata": {
        "id": "kmInxXlTClcN",
        "colab_type": "code",
        "colab": {}
      },
      "source": [
        ""
      ],
      "execution_count": 0,
      "outputs": []
    }
  ]
}